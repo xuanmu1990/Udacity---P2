{
 "cells": [
  {
   "cell_type": "markdown",
   "metadata": {},
   "source": [
    "# Dataset - Titanic\n",
    "I pick the Titanic Dataset. Because I know nothing about baseball techinics and terminology, but to analyse baseball\n",
    "dataset you need to have some background knowledge. Besides, I'm more intersted in the titanic dataset. "
   ]
  },
  {
   "cell_type": "markdown",
   "metadata": {},
   "source": [
    "## Titanic Route\n",
    "The dataset contains Embarked information so I'm curious about Titanic route. I found the following route map on Internet. https://www.discovernorthernireland.com/titanic/Titanic-Route-Map-A2196"
   ]
  },
  {
   "cell_type": "markdown",
   "metadata": {},
   "source": [
    "![Titanic Route](titanic1.jpg)"
   ]
  },
  {
   "cell_type": "markdown",
   "metadata": {},
   "source": [
    "Titanic departs Belfast on 2nd April 1912. It arrives Southampton, then Chrbourg and Queenstown. As the code shows, 644 passengers(72.3%) boarded in Southampton.168 Passengers boarded in Cherbourg and 77 boarded in Queenstown. "
   ]
  },
  {
   "cell_type": "code",
   "execution_count": 1,
   "metadata": {
    "collapsed": false
   },
   "outputs": [
    {
     "data": {
      "text/plain": [
       "Embarked\n",
       "C    168\n",
       "Q     77\n",
       "S    644\n",
       "Name: Survived, dtype: int64"
      ]
     },
     "execution_count": 1,
     "metadata": {},
     "output_type": "execute_result"
    }
   ],
   "source": [
    "import pandas as pd\n",
    "\n",
    "filename = r'C:\\Users\\xuanm_000\\Desktop\\Udacity\\P2\\titanic-data.csv'\n",
    "titanic_df = pd.read_csv(filename)\n",
    "\n",
    "titanic_df.groupby('Embarked')['Survived'].count()"
   ]
  },
  {
   "cell_type": "markdown",
   "metadata": {},
   "source": [
    "# Dataset Investigation\n",
    "## My questions\n",
    "Titanic hit iceberg when it's on the last quarte of it's journery. After a brief introduction to the Titanic dataset(The description of the data is listed on this website https://www.kaggle.com/c/titanic/data), I'm curious what factor made people more likely to survive? The dataset has 12 fields as below. PassengerId, Survived, Pclass, Name, Sex, Age, Sibsp, Parch, Ticket, Fare, Cabin, Embarked. **I pick 3 factors, Pclass, Age and Sex. And I will analyse if those 3 factors affected the survival rate**. "
   ]
  },
  {
   "cell_type": "markdown",
   "metadata": {},
   "source": [
    "![Titanic Route](titanic2.jpeg)"
   ]
  },
  {
   "cell_type": "markdown",
   "metadata": {},
   "source": [
    "## Data Preparation\n",
    "First of all, I did some data wrangling. I imported the csv file as pandas dataframe. I created a new column called Age Group which will be used in Age/Survive analysis. The new dataframe has 13 columns and 891 rows(header doesn't included). "
   ]
  },
  {
   "cell_type": "code",
   "execution_count": 2,
   "metadata": {
    "collapsed": false
   },
   "outputs": [
    {
     "data": {
      "text/html": [
       "<div>\n",
       "<table border=\"1\" class=\"dataframe\">\n",
       "  <thead>\n",
       "    <tr style=\"text-align: right;\">\n",
       "      <th></th>\n",
       "      <th>PassengerId</th>\n",
       "      <th>Survived</th>\n",
       "      <th>Pclass</th>\n",
       "      <th>Name</th>\n",
       "      <th>Sex</th>\n",
       "      <th>Age</th>\n",
       "      <th>SibSp</th>\n",
       "      <th>Parch</th>\n",
       "      <th>Ticket</th>\n",
       "      <th>Fare</th>\n",
       "      <th>Cabin</th>\n",
       "      <th>Embarked</th>\n",
       "    </tr>\n",
       "  </thead>\n",
       "  <tbody>\n",
       "    <tr>\n",
       "      <th>0</th>\n",
       "      <td>1</td>\n",
       "      <td>0</td>\n",
       "      <td>3</td>\n",
       "      <td>Braund, Mr. Owen Harris</td>\n",
       "      <td>male</td>\n",
       "      <td>22.0</td>\n",
       "      <td>1</td>\n",
       "      <td>0</td>\n",
       "      <td>A/5 21171</td>\n",
       "      <td>7.2500</td>\n",
       "      <td>NaN</td>\n",
       "      <td>S</td>\n",
       "    </tr>\n",
       "    <tr>\n",
       "      <th>1</th>\n",
       "      <td>2</td>\n",
       "      <td>1</td>\n",
       "      <td>1</td>\n",
       "      <td>Cumings, Mrs. John Bradley (Florence Briggs Th...</td>\n",
       "      <td>female</td>\n",
       "      <td>38.0</td>\n",
       "      <td>1</td>\n",
       "      <td>0</td>\n",
       "      <td>PC 17599</td>\n",
       "      <td>71.2833</td>\n",
       "      <td>C85</td>\n",
       "      <td>C</td>\n",
       "    </tr>\n",
       "    <tr>\n",
       "      <th>2</th>\n",
       "      <td>3</td>\n",
       "      <td>1</td>\n",
       "      <td>3</td>\n",
       "      <td>Heikkinen, Miss. Laina</td>\n",
       "      <td>female</td>\n",
       "      <td>26.0</td>\n",
       "      <td>0</td>\n",
       "      <td>0</td>\n",
       "      <td>STON/O2. 3101282</td>\n",
       "      <td>7.9250</td>\n",
       "      <td>NaN</td>\n",
       "      <td>S</td>\n",
       "    </tr>\n",
       "    <tr>\n",
       "      <th>3</th>\n",
       "      <td>4</td>\n",
       "      <td>1</td>\n",
       "      <td>1</td>\n",
       "      <td>Futrelle, Mrs. Jacques Heath (Lily May Peel)</td>\n",
       "      <td>female</td>\n",
       "      <td>35.0</td>\n",
       "      <td>1</td>\n",
       "      <td>0</td>\n",
       "      <td>113803</td>\n",
       "      <td>53.1000</td>\n",
       "      <td>C123</td>\n",
       "      <td>S</td>\n",
       "    </tr>\n",
       "    <tr>\n",
       "      <th>4</th>\n",
       "      <td>5</td>\n",
       "      <td>0</td>\n",
       "      <td>3</td>\n",
       "      <td>Allen, Mr. William Henry</td>\n",
       "      <td>male</td>\n",
       "      <td>35.0</td>\n",
       "      <td>0</td>\n",
       "      <td>0</td>\n",
       "      <td>373450</td>\n",
       "      <td>8.0500</td>\n",
       "      <td>NaN</td>\n",
       "      <td>S</td>\n",
       "    </tr>\n",
       "  </tbody>\n",
       "</table>\n",
       "</div>"
      ],
      "text/plain": [
       "   PassengerId  Survived  Pclass  \\\n",
       "0            1         0       3   \n",
       "1            2         1       1   \n",
       "2            3         1       3   \n",
       "3            4         1       1   \n",
       "4            5         0       3   \n",
       "\n",
       "                                                Name     Sex   Age  SibSp  \\\n",
       "0                            Braund, Mr. Owen Harris    male  22.0      1   \n",
       "1  Cumings, Mrs. John Bradley (Florence Briggs Th...  female  38.0      1   \n",
       "2                             Heikkinen, Miss. Laina  female  26.0      0   \n",
       "3       Futrelle, Mrs. Jacques Heath (Lily May Peel)  female  35.0      1   \n",
       "4                           Allen, Mr. William Henry    male  35.0      0   \n",
       "\n",
       "   Parch            Ticket     Fare Cabin Embarked  \n",
       "0      0         A/5 21171   7.2500   NaN        S  \n",
       "1      0          PC 17599  71.2833   C85        C  \n",
       "2      0  STON/O2. 3101282   7.9250   NaN        S  \n",
       "3      0            113803  53.1000  C123        S  \n",
       "4      0            373450   8.0500   NaN        S  "
      ]
     },
     "execution_count": 2,
     "metadata": {},
     "output_type": "execute_result"
    }
   ],
   "source": [
    "titanic_df.head(5)"
   ]
  },
  {
   "cell_type": "markdown",
   "metadata": {},
   "source": [
    "## Missing Data of Age ##\n",
    "During my investigation, I found that we have 177 rows with Age vaule as NaN, AKA missing values.There are three types of missing value: *Missing Completely At Random*, *Missing At Random*, *Missing Not at Random*. \n",
    "Missing Completely at Random, MCAR, means there is no relationship between the missingness of the data and any values, observed or missing. Those missing data points are a random subset of the data. There is nothing systematic going on that makes some data more likely to be missing than others.\n",
    "\n",
    "Missing at Random, MAR, means there is a systematic relationship between the propensity of missing values and the observed data, but not the missing data. In our case, it means that the missing value could be related to Sex or Pclass, but not the age itself. \n",
    "\n",
    "Missing Not at Random, MNAR, means there is a relationship between the propensity of a value to be missing and its values. This is a case where the people with the lowest education are missing on education or the sickest people are most likely to drop out of the study.\n"
   ]
  },
  {
   "cell_type": "markdown",
   "metadata": {},
   "source": [
    "### Missing at random ###\n",
    "I want to investigate if the missing age is missing completely at random or missing at random. First, it's hard to find evidence that the missing data is missing not at random. Is there a age group that try to hide their age? I don't think so. \n",
    "I then compared the good data rate(good record/total record) across different pclass via chi-square test?\n"
   ]
  },
  {
   "cell_type": "code",
   "execution_count": 3,
   "metadata": {
    "collapsed": false
   },
   "outputs": [
    {
     "name": "stdout",
     "output_type": "stream",
     "text": [
      "714\n"
     ]
    }
   ],
   "source": [
    "import pandas as pd\n",
    "df_filtered=titanic_df[pd.isnull(titanic_df['Age'])==False]\n",
    "# I also investigation Pclas and Sex and found no missing data\n",
    "#df_filtered=titanic_df[pd.isnull(titanic_df['Pclass'])==True]\n",
    "#df_filtered=titanic_df[pd.isnull(titanic_df['Pclass'])==True]\n",
    "print len(df_filtered)"
   ]
  },
  {
   "cell_type": "code",
   "execution_count": 4,
   "metadata": {
    "collapsed": false
   },
   "outputs": [
    {
     "data": {
      "text/plain": [
       "(891, 12)"
      ]
     },
     "execution_count": 4,
     "metadata": {},
     "output_type": "execute_result"
    }
   ],
   "source": [
    "titanic_df.shape"
   ]
  },
  {
   "cell_type": "code",
   "execution_count": 5,
   "metadata": {
    "collapsed": false
   },
   "outputs": [
    {
     "name": "stdout",
     "output_type": "stream",
     "text": [
      "0.861111111111\n",
      "0.940217391304\n",
      "0.723014256619\n"
     ]
    }
   ],
   "source": [
    "rate_1= float(float(len(df_filtered[df_filtered['Pclass']==1]))/len(titanic_df[titanic_df['Pclass']==1]))\n",
    "rate_2= float(len(df_filtered[df_filtered['Pclass']==2]))/len(titanic_df[titanic_df['Pclass']==2])\n",
    "rate_3= float(len(df_filtered[df_filtered['Pclass']==3]))/len(titanic_df[titanic_df['Pclass']==3])\n",
    "print rate_1\n",
    "print rate_2\n",
    "print rate_3"
   ]
  },
  {
   "cell_type": "markdown",
   "metadata": {},
   "source": [
    "It seems like the missing rate is much higher in Pclass 3 group than in Pclass 2 group. In order to test if missing rate is consistent aross different group of Pclass, I conducted Chi-Square test. \n",
    "\n",
    "Mathematically, the biggest reason why we cannot use tests like Z-test, T-test, ANOVA, is the method that we deduce the standard error. The Standard Error is the method in which we create the distribution from which we derive the test-statistic (t-statistics, z-statistic, etc.). How many standard deviations from the center of that distribution is the statistic of the specific mean (t-statistic, z-statistic). The method in which we calculate the standard error for a continuous variable vs a categorical variable are different. With categorical variables, we are dealing with the proportions of occurrences of each of the values of that variable, where in continuous variables, we are dealing with the average of several values within the variable. \n",
    "\n",
    "My hypothesis are as follows.\n",
    "Note: Instead of testing missing rate, I tested good data rate which is easier to calcualte. \n",
    "H0: Good data rate is consistent across different Pclass passenger group\n",
    "HA: Good data rate is not consistent across different Pclass passenger group\n",
    "We use signaficant level of 0.05. We get the pvalue smaller than 0.05. So we reject the Null Hypothesis. Within Signaficant level of 0.05, the good data rate is not consistent across different Pclass group. It means that the data is not completely missing at random. Pclass has something to do with good data rate. Pclass 3 has much lower good data rate than the other two classes. "
   ]
  },
  {
   "cell_type": "code",
   "execution_count": 6,
   "metadata": {
    "collapsed": false
   },
   "outputs": [
    {
     "name": "stdout",
     "output_type": "stream",
     "text": [
      "[186, 173, 355]\n",
      "[216, 184, 491]\n"
     ]
    },
    {
     "data": {
      "text/plain": [
       "Power_divergenceResult(statistic=42.494336462115179, pvalue=5.9220501548353131e-10)"
      ]
     },
     "execution_count": 6,
     "metadata": {},
     "output_type": "execute_result"
    }
   ],
   "source": [
    "import scipy.stats\n",
    "mis_rate=float(len(df_filtered))/len(titanic_df)\n",
    "#rate_f = float(len(df_filtered[df_filtered['Sex']=='female']))/len(titanic_df[titanic_df['Sex']=='female'])\n",
    "#rate_m = float(len(df_filtered[df_filtered['Sex']=='male']))/len(titanic_df[titanic_df['Sex']=='male'])\n",
    "f_ob=[len(df_filtered[df_filtered['Pclass']==1]),len(df_filtered[df_filtered['Pclass']==2]),len(df_filtered[df_filtered['Pclass']==3])]\n",
    "f_exp=[len(titanic_df[titanic_df['Pclass']==1]),len(titanic_df[titanic_df['Pclass']==2]),len(titanic_df[titanic_df['Pclass']==3])]\n",
    "print f_ob\n",
    "print f_exp\n",
    "scipy.stats.chisquare(f_ob, f_exp)"
   ]
  },
  {
   "cell_type": "markdown",
   "metadata": {},
   "source": [
    "### Recover Missing Data ###\n",
    "\n",
    "I tried to recover missing data by the rest of the fields that I can use. The SibaSp and Parch look very promising to me at first glance because if we know a person have child onboard, he/she must be an adult parents, then we can estimate the passenger's age. However, SibaSp could mean sibling or Spouce and we could't simply decide which one. If the record has SibaSp 1, it could mean it's a kid with a young sibling, or a senior passenger with a sibling, or a mid-age women with a spouce. Same applies to the Parch fields. If we have a record with Parch as 2, it could mean it's a kid with 2 parents onboard, or a parents with 2 children on board. \n",
    "\n",
    "I also thought about name title. I found that female passenger with title 'Miss' are girls and young women, and male passenger with title 'Master' are boys. However, we can only recover part of the missing data using this method. In the end, I think the best solution is to delete the missing Age in our analysis. "
   ]
  },
  {
   "cell_type": "code",
   "execution_count": 7,
   "metadata": {
    "collapsed": false
   },
   "outputs": [
    {
     "data": {
      "text/plain": [
       "891"
      ]
     },
     "execution_count": 7,
     "metadata": {},
     "output_type": "execute_result"
    }
   ],
   "source": [
    "len(titanic_df.index)"
   ]
  },
  {
   "cell_type": "code",
   "execution_count": 8,
   "metadata": {
    "collapsed": false
   },
   "outputs": [
    {
     "name": "stdout",
     "output_type": "stream",
     "text": [
      "PassengerId int64\n",
      "Survived int64\n",
      "Pclass int64\n",
      "Name object\n",
      "Sex object\n",
      "Age float64\n",
      "SibSp int64\n",
      "Parch int64\n",
      "Ticket object\n",
      "Fare float64\n",
      "Cabin object\n",
      "Embarked object\n"
     ]
    }
   ],
   "source": [
    "for col in titanic_df:\n",
    "    print col, titanic_df[col].dtypes"
   ]
  },
  {
   "cell_type": "code",
   "execution_count": 9,
   "metadata": {
    "collapsed": false
   },
   "outputs": [
    {
     "data": {
      "text/html": [
       "<div>\n",
       "<table border=\"1\" class=\"dataframe\">\n",
       "  <thead>\n",
       "    <tr style=\"text-align: right;\">\n",
       "      <th></th>\n",
       "      <th>PassengerId</th>\n",
       "      <th>Survived</th>\n",
       "      <th>Pclass</th>\n",
       "      <th>Name</th>\n",
       "      <th>Sex</th>\n",
       "      <th>Age</th>\n",
       "      <th>SibSp</th>\n",
       "      <th>Parch</th>\n",
       "      <th>Ticket</th>\n",
       "      <th>Fare</th>\n",
       "      <th>Cabin</th>\n",
       "      <th>Embarked</th>\n",
       "    </tr>\n",
       "  </thead>\n",
       "  <tbody>\n",
       "    <tr>\n",
       "      <th>159</th>\n",
       "      <td>160</td>\n",
       "      <td>0</td>\n",
       "      <td>3</td>\n",
       "      <td>Sage, Master. Thomas Henry</td>\n",
       "      <td>male</td>\n",
       "      <td>NaN</td>\n",
       "      <td>8</td>\n",
       "      <td>2</td>\n",
       "      <td>CA. 2343</td>\n",
       "      <td>69.55</td>\n",
       "      <td>NaN</td>\n",
       "      <td>S</td>\n",
       "    </tr>\n",
       "    <tr>\n",
       "      <th>180</th>\n",
       "      <td>181</td>\n",
       "      <td>0</td>\n",
       "      <td>3</td>\n",
       "      <td>Sage, Miss. Constance Gladys</td>\n",
       "      <td>female</td>\n",
       "      <td>NaN</td>\n",
       "      <td>8</td>\n",
       "      <td>2</td>\n",
       "      <td>CA. 2343</td>\n",
       "      <td>69.55</td>\n",
       "      <td>NaN</td>\n",
       "      <td>S</td>\n",
       "    </tr>\n",
       "    <tr>\n",
       "      <th>201</th>\n",
       "      <td>202</td>\n",
       "      <td>0</td>\n",
       "      <td>3</td>\n",
       "      <td>Sage, Mr. Frederick</td>\n",
       "      <td>male</td>\n",
       "      <td>NaN</td>\n",
       "      <td>8</td>\n",
       "      <td>2</td>\n",
       "      <td>CA. 2343</td>\n",
       "      <td>69.55</td>\n",
       "      <td>NaN</td>\n",
       "      <td>S</td>\n",
       "    </tr>\n",
       "    <tr>\n",
       "      <th>324</th>\n",
       "      <td>325</td>\n",
       "      <td>0</td>\n",
       "      <td>3</td>\n",
       "      <td>Sage, Mr. George John Jr</td>\n",
       "      <td>male</td>\n",
       "      <td>NaN</td>\n",
       "      <td>8</td>\n",
       "      <td>2</td>\n",
       "      <td>CA. 2343</td>\n",
       "      <td>69.55</td>\n",
       "      <td>NaN</td>\n",
       "      <td>S</td>\n",
       "    </tr>\n",
       "    <tr>\n",
       "      <th>792</th>\n",
       "      <td>793</td>\n",
       "      <td>0</td>\n",
       "      <td>3</td>\n",
       "      <td>Sage, Miss. Stella Anna</td>\n",
       "      <td>female</td>\n",
       "      <td>NaN</td>\n",
       "      <td>8</td>\n",
       "      <td>2</td>\n",
       "      <td>CA. 2343</td>\n",
       "      <td>69.55</td>\n",
       "      <td>NaN</td>\n",
       "      <td>S</td>\n",
       "    </tr>\n",
       "    <tr>\n",
       "      <th>846</th>\n",
       "      <td>847</td>\n",
       "      <td>0</td>\n",
       "      <td>3</td>\n",
       "      <td>Sage, Mr. Douglas Bullen</td>\n",
       "      <td>male</td>\n",
       "      <td>NaN</td>\n",
       "      <td>8</td>\n",
       "      <td>2</td>\n",
       "      <td>CA. 2343</td>\n",
       "      <td>69.55</td>\n",
       "      <td>NaN</td>\n",
       "      <td>S</td>\n",
       "    </tr>\n",
       "    <tr>\n",
       "      <th>863</th>\n",
       "      <td>864</td>\n",
       "      <td>0</td>\n",
       "      <td>3</td>\n",
       "      <td>Sage, Miss. Dorothy Edith \"Dolly\"</td>\n",
       "      <td>female</td>\n",
       "      <td>NaN</td>\n",
       "      <td>8</td>\n",
       "      <td>2</td>\n",
       "      <td>CA. 2343</td>\n",
       "      <td>69.55</td>\n",
       "      <td>NaN</td>\n",
       "      <td>S</td>\n",
       "    </tr>\n",
       "  </tbody>\n",
       "</table>\n",
       "</div>"
      ],
      "text/plain": [
       "     PassengerId  Survived  Pclass                               Name     Sex  \\\n",
       "159          160         0       3         Sage, Master. Thomas Henry    male   \n",
       "180          181         0       3       Sage, Miss. Constance Gladys  female   \n",
       "201          202         0       3                Sage, Mr. Frederick    male   \n",
       "324          325         0       3           Sage, Mr. George John Jr    male   \n",
       "792          793         0       3            Sage, Miss. Stella Anna  female   \n",
       "846          847         0       3           Sage, Mr. Douglas Bullen    male   \n",
       "863          864         0       3  Sage, Miss. Dorothy Edith \"Dolly\"  female   \n",
       "\n",
       "     Age  SibSp  Parch    Ticket   Fare Cabin Embarked  \n",
       "159  NaN      8      2  CA. 2343  69.55   NaN        S  \n",
       "180  NaN      8      2  CA. 2343  69.55   NaN        S  \n",
       "201  NaN      8      2  CA. 2343  69.55   NaN        S  \n",
       "324  NaN      8      2  CA. 2343  69.55   NaN        S  \n",
       "792  NaN      8      2  CA. 2343  69.55   NaN        S  \n",
       "846  NaN      8      2  CA. 2343  69.55   NaN        S  \n",
       "863  NaN      8      2  CA. 2343  69.55   NaN        S  "
      ]
     },
     "execution_count": 9,
     "metadata": {},
     "output_type": "execute_result"
    }
   ],
   "source": [
    "titanic_df[titanic_df[\"Ticket\"].str.contains(\"CA. 2343\")]"
   ]
  },
  {
   "cell_type": "code",
   "execution_count": 10,
   "metadata": {
    "collapsed": false
   },
   "outputs": [
    {
     "name": "stderr",
     "output_type": "stream",
     "text": [
      "C:\\Users\\xuanm_000\\Anaconda2\\lib\\site-packages\\ipykernel\\__main__.py:4: SettingWithCopyWarning: \n",
      "A value is trying to be set on a copy of a slice from a DataFrame.\n",
      "Try using .loc[row_indexer,col_indexer] = value instead\n",
      "\n",
      "See the caveats in the documentation: http://pandas.pydata.org/pandas-docs/stable/indexing.html#indexing-view-versus-copy\n"
     ]
    }
   ],
   "source": [
    "import pandas as pd\n",
    "import numpy as np\n",
    "df_filtered['Age Group']=pd.cut(df_filtered['Age'].dropna(), (0,10,20,30,40,50,60,70,80),\n",
    "           labels=[\"0~10\",\"10~20\",\"20~30\",\"30~40\",\"40~50\",\"50~60\",\"60~70\",\"70~80\"])\n",
    "#print df_filtered[df_filtered['Age Group']=='0~10']"
   ]
  },
  {
   "cell_type": "code",
   "execution_count": 11,
   "metadata": {
    "collapsed": false
   },
   "outputs": [
    {
     "data": {
      "text/html": [
       "<div>\n",
       "<table border=\"1\" class=\"dataframe\">\n",
       "  <thead>\n",
       "    <tr style=\"text-align: right;\">\n",
       "      <th></th>\n",
       "      <th>PassengerId</th>\n",
       "      <th>Survived</th>\n",
       "      <th>Pclass</th>\n",
       "      <th>Name</th>\n",
       "      <th>Sex</th>\n",
       "      <th>Age</th>\n",
       "      <th>SibSp</th>\n",
       "      <th>Parch</th>\n",
       "      <th>Ticket</th>\n",
       "      <th>Fare</th>\n",
       "      <th>Cabin</th>\n",
       "      <th>Embarked</th>\n",
       "    </tr>\n",
       "  </thead>\n",
       "  <tbody>\n",
       "    <tr>\n",
       "      <th>0</th>\n",
       "      <td>1</td>\n",
       "      <td>0</td>\n",
       "      <td>3</td>\n",
       "      <td>Braund, Mr. Owen Harris</td>\n",
       "      <td>male</td>\n",
       "      <td>22.0</td>\n",
       "      <td>1</td>\n",
       "      <td>0</td>\n",
       "      <td>A/5 21171</td>\n",
       "      <td>7.2500</td>\n",
       "      <td>NaN</td>\n",
       "      <td>S</td>\n",
       "    </tr>\n",
       "    <tr>\n",
       "      <th>1</th>\n",
       "      <td>2</td>\n",
       "      <td>1</td>\n",
       "      <td>1</td>\n",
       "      <td>Cumings, Mrs. John Bradley (Florence Briggs Th...</td>\n",
       "      <td>female</td>\n",
       "      <td>38.0</td>\n",
       "      <td>1</td>\n",
       "      <td>0</td>\n",
       "      <td>PC 17599</td>\n",
       "      <td>71.2833</td>\n",
       "      <td>C85</td>\n",
       "      <td>C</td>\n",
       "    </tr>\n",
       "    <tr>\n",
       "      <th>2</th>\n",
       "      <td>3</td>\n",
       "      <td>1</td>\n",
       "      <td>3</td>\n",
       "      <td>Heikkinen, Miss. Laina</td>\n",
       "      <td>female</td>\n",
       "      <td>26.0</td>\n",
       "      <td>0</td>\n",
       "      <td>0</td>\n",
       "      <td>STON/O2. 3101282</td>\n",
       "      <td>7.9250</td>\n",
       "      <td>NaN</td>\n",
       "      <td>S</td>\n",
       "    </tr>\n",
       "    <tr>\n",
       "      <th>3</th>\n",
       "      <td>4</td>\n",
       "      <td>1</td>\n",
       "      <td>1</td>\n",
       "      <td>Futrelle, Mrs. Jacques Heath (Lily May Peel)</td>\n",
       "      <td>female</td>\n",
       "      <td>35.0</td>\n",
       "      <td>1</td>\n",
       "      <td>0</td>\n",
       "      <td>113803</td>\n",
       "      <td>53.1000</td>\n",
       "      <td>C123</td>\n",
       "      <td>S</td>\n",
       "    </tr>\n",
       "    <tr>\n",
       "      <th>4</th>\n",
       "      <td>5</td>\n",
       "      <td>0</td>\n",
       "      <td>3</td>\n",
       "      <td>Allen, Mr. William Henry</td>\n",
       "      <td>male</td>\n",
       "      <td>35.0</td>\n",
       "      <td>0</td>\n",
       "      <td>0</td>\n",
       "      <td>373450</td>\n",
       "      <td>8.0500</td>\n",
       "      <td>NaN</td>\n",
       "      <td>S</td>\n",
       "    </tr>\n",
       "  </tbody>\n",
       "</table>\n",
       "</div>"
      ],
      "text/plain": [
       "   PassengerId  Survived  Pclass  \\\n",
       "0            1         0       3   \n",
       "1            2         1       1   \n",
       "2            3         1       3   \n",
       "3            4         1       1   \n",
       "4            5         0       3   \n",
       "\n",
       "                                                Name     Sex   Age  SibSp  \\\n",
       "0                            Braund, Mr. Owen Harris    male  22.0      1   \n",
       "1  Cumings, Mrs. John Bradley (Florence Briggs Th...  female  38.0      1   \n",
       "2                             Heikkinen, Miss. Laina  female  26.0      0   \n",
       "3       Futrelle, Mrs. Jacques Heath (Lily May Peel)  female  35.0      1   \n",
       "4                           Allen, Mr. William Henry    male  35.0      0   \n",
       "\n",
       "   Parch            Ticket     Fare Cabin Embarked  \n",
       "0      0         A/5 21171   7.2500   NaN        S  \n",
       "1      0          PC 17599  71.2833   C85        C  \n",
       "2      0  STON/O2. 3101282   7.9250   NaN        S  \n",
       "3      0            113803  53.1000  C123        S  \n",
       "4      0            373450   8.0500   NaN        S  "
      ]
     },
     "execution_count": 11,
     "metadata": {},
     "output_type": "execute_result"
    }
   ],
   "source": [
    "titanic_df.head(5)"
   ]
  },
  {
   "cell_type": "markdown",
   "metadata": {},
   "source": [
    "## First Question\n",
    "My first investigation will be if sex has something to do with survive. By instinct, I think female have better chance to survive than male. However, I need statiscal proof. I will use t-test to compare the sample of female passengers and the sample of male passengers. The reason I pick t-test is because we don’t know the population standard deviation so we couldn't use z-test. But to use t-test we don't need to know the population standard deviation. "
   ]
  },
  {
   "cell_type": "markdown",
   "metadata": {},
   "source": [
    "H0: In population, male and female has equal chance to survive ( H0: Pf = Pm ),\n",
    "Ha: Population survival rate of female will be significantly larger than the male ( Ha: Pf > Pm ) \n",
    "The sample survival rate is 38.38%. Female survival rate is 74.20% and male survival rate is 18.89%. \n",
    "I conducted one-tailed t-test by using ttest_ind of scipy.stats. However, ttest_ind is actually two-tailed t-test so the p-value is for two-tailed t-test. We just need to divide it by 2. The P value is small enough that we can treat it as 0.\n",
    "t=18.67\n",
    "α=0.005\n",
    "p=0.00\n",
    " \n",
    "We reject H0 because P<0.005. It means that female have better chance to survive than the male passenger. Yes, the results match up with my expectations. It reveals the fact that women and children were taken care of first. It also could be that women were tougher than male in the cold weather(the Altanic is freezing cold by the time Titanic sailed). However, why female have better chance to survive is not within my experiment."
   ]
  },
  {
   "cell_type": "code",
   "execution_count": 12,
   "metadata": {
    "collapsed": false
   },
   "outputs": [
    {
     "data": {
      "text/plain": [
       "0.3838383838383838"
      ]
     },
     "execution_count": 12,
     "metadata": {},
     "output_type": "execute_result"
    }
   ],
   "source": [
    "titanic_df['Survived'].mean()"
   ]
  },
  {
   "cell_type": "code",
   "execution_count": 13,
   "metadata": {
    "collapsed": false
   },
   "outputs": [
    {
     "data": {
      "text/plain": [
       "Sex\n",
       "female    0.742038\n",
       "male      0.188908\n",
       "Name: Survived, dtype: float64"
      ]
     },
     "execution_count": 13,
     "metadata": {},
     "output_type": "execute_result"
    }
   ],
   "source": [
    "titanic_df.groupby('Sex')['Survived'].mean()"
   ]
  },
  {
   "cell_type": "code",
   "execution_count": 14,
   "metadata": {
    "collapsed": false
   },
   "outputs": [],
   "source": [
    "from scipy.stats import ttest_ind\n",
    "def ttest(sample1,sample2):\n",
    "    print(ttest_ind(sample1, sample2,equal_var=False))"
   ]
  },
  {
   "cell_type": "code",
   "execution_count": 15,
   "metadata": {
    "collapsed": false
   },
   "outputs": [
    {
     "name": "stdout",
     "output_type": "stream",
     "text": [
      "[360, 64]\n",
      "[93, 197]\n"
     ]
    },
    {
     "data": {
      "text/plain": [
       "Power_divergenceResult(statistic=856.34026526936304, pvalue=3.0421826156310809e-188)"
      ]
     },
     "execution_count": 15,
     "metadata": {},
     "output_type": "execute_result"
    }
   ],
   "source": [
    "import scipy.stats\n",
    "#rate_f = float(len(df_filtered[df_filtered['Sex']=='female']))/len(titanic_df[titanic_df['Sex']=='female'])\n",
    "#rate_m = float(len(df_filtered[df_filtered['Sex']=='male']))/len(titanic_df[titanic_df['Sex']=='male'])\n",
    "f_ob=[len(df_filtered[(df_filtered['Sex']=='male') & (df_filtered['Survived']==0)]),len(df_filtered[(df_filtered['Sex']=='female') & (df_filtered['Survived']==0)])]\n",
    "f_exp=[len(df_filtered[(df_filtered['Sex']=='male')& (df_filtered['Survived']==1)]),len(df_filtered[(df_filtered['Sex']=='female') & (df_filtered['Survived']==1)])]\n",
    "print f_ob\n",
    "print f_exp\n",
    "scipy.stats.chisquare(f_ob, f_exp)"
   ]
  },
  {
   "cell_type": "markdown",
   "metadata": {},
   "source": [
    "## Second Question\n",
    "My second investigation is if Pclass has something to do with survive. By instinct, I think first class has better chance to survive than second class and second class has better chance to survive than thrid class. Same reason as the first experiment, I will use t-test to test my instinct is right or wrong."
   ]
  },
  {
   "cell_type": "markdown",
   "metadata": {},
   "source": [
    "H0: In population,survival rate amoung different classes are different ( H0: P1 = P2 =P3 ),\n",
    "Ha: In population, survival rate amoung different classes are not different ( Ha: P1 != P2 != P3 ) \n",
    "I conducted chi-squared test. \n",
    "p is almost 0. \n",
    " \n",
    "We reject H0 because P<0.005. It means that 1st class passengers have better chance to survive than the 2nd class passengers. And the results match up with my expectations. The 1st class can access the best resource via money or power. They might bribe the crews to get on the life boat secretly. \n",
    "\n",
    " \n",
    "We compare 2nd class and 3rd class using the same techinics. We reject H0 because P<0.005. We accept Ha that population survival rate of 2nd class passengers will be significantly larger than the 3rd class passengers."
   ]
  },
  {
   "cell_type": "code",
   "execution_count": 16,
   "metadata": {
    "collapsed": false
   },
   "outputs": [
    {
     "data": {
      "text/html": [
       "<div>\n",
       "<table border=\"1\" class=\"dataframe\">\n",
       "  <thead>\n",
       "    <tr style=\"text-align: right;\">\n",
       "      <th></th>\n",
       "      <th>Survived</th>\n",
       "      <th>Fare</th>\n",
       "    </tr>\n",
       "    <tr>\n",
       "      <th>Pclass</th>\n",
       "      <th></th>\n",
       "      <th></th>\n",
       "    </tr>\n",
       "  </thead>\n",
       "  <tbody>\n",
       "    <tr>\n",
       "      <th>1</th>\n",
       "      <td>0.629630</td>\n",
       "      <td>84.154687</td>\n",
       "    </tr>\n",
       "    <tr>\n",
       "      <th>2</th>\n",
       "      <td>0.472826</td>\n",
       "      <td>20.662183</td>\n",
       "    </tr>\n",
       "    <tr>\n",
       "      <th>3</th>\n",
       "      <td>0.242363</td>\n",
       "      <td>13.675550</td>\n",
       "    </tr>\n",
       "  </tbody>\n",
       "</table>\n",
       "</div>"
      ],
      "text/plain": [
       "        Survived       Fare\n",
       "Pclass                     \n",
       "1       0.629630  84.154687\n",
       "2       0.472826  20.662183\n",
       "3       0.242363  13.675550"
      ]
     },
     "execution_count": 16,
     "metadata": {},
     "output_type": "execute_result"
    }
   ],
   "source": [
    "titanic_df.groupby('Pclass')[['Survived','Fare']].mean()"
   ]
  },
  {
   "cell_type": "code",
   "execution_count": 17,
   "metadata": {
    "collapsed": false
   },
   "outputs": [
    {
     "name": "stdout",
     "output_type": "stream",
     "text": [
      "[64, 90, 270]\n",
      "[122, 83, 85]\n"
     ]
    },
    {
     "data": {
      "text/plain": [
       "Power_divergenceResult(statistic=430.81119076111582, pvalue=2.8218800885765456e-94)"
      ]
     },
     "execution_count": 17,
     "metadata": {},
     "output_type": "execute_result"
    }
   ],
   "source": [
    "import scipy.stats\n",
    "#rate_f = float(len(df_filtered[df_filtered['Sex']=='female']))/len(titanic_df[titanic_df['Sex']=='female'])\n",
    "#rate_m = float(len(df_filtered[df_filtered['Sex']=='male']))/len(titanic_df[titanic_df['Sex']=='male'])\n",
    "f_ob=[len(df_filtered[(df_filtered['Pclass']==1) & (df_filtered['Survived']==0)]),len(df_filtered[(df_filtered['Pclass']==2) & (df_filtered['Survived']==0)]),len(df_filtered[(df_filtered['Pclass']==3) & (df_filtered['Survived']==0)])]\n",
    "f_exp=[len(df_filtered[(df_filtered['Pclass']==1)& (df_filtered['Survived']==1)]),len(df_filtered[(df_filtered['Pclass']==2) & (df_filtered['Survived']==1)]),len(df_filtered[(df_filtered['Pclass']==3) & (df_filtered['Survived']==1)])]\n",
    "print f_ob\n",
    "print f_exp\n",
    "scipy.stats.chisquare(f_ob, f_exp)"
   ]
  },
  {
   "cell_type": "markdown",
   "metadata": {},
   "source": [
    "## Third Question\n",
    "My next data analysis will focus on the relationship between age and survival rate. I will use df_filtered which excludes NaN values and already divided passengers into 8 age groups. I want to investigate if there is a correlation between age and survival rate. I calculate the pearson's r and it's only -0.078, which doesn't represent a strong correlation. The scatter plot doesn't show any correlation pattern neither."
   ]
  },
  {
   "cell_type": "code",
   "execution_count": 20,
   "metadata": {
    "collapsed": true
   },
   "outputs": [],
   "source": [
    "def correlation(x, y):\n",
    "    std_x=(x-x.mean())/x.std(ddof=0)\n",
    "    std_y=(y-y.mean())/y.std(ddof=0)\n",
    "    return (std_x*std_y).mean()"
   ]
  },
  {
   "cell_type": "code",
   "execution_count": 21,
   "metadata": {
    "collapsed": false
   },
   "outputs": [
    {
     "data": {
      "text/plain": [
       "-0.077982678413863"
      ]
     },
     "execution_count": 21,
     "metadata": {},
     "output_type": "execute_result"
    }
   ],
   "source": [
    "correlation(titanic_df['Survived'],titanic_df['Age'])"
   ]
  },
  {
   "cell_type": "code",
   "execution_count": 22,
   "metadata": {
    "collapsed": false
   },
   "outputs": [
    {
     "data": {
      "image/png": "[encoded data removed]",
      "text/plain": [
       "<matplotlib.figure.Figure at 0x6bf6978>"
      ]
     },
     "metadata": {},
     "output_type": "display_data"
    }
   ],
   "source": [
    "import numpy as np\n",
    "import matplotlib.pyplot as plt\n",
    "x = titanic_df.groupby('Age')['Survived'].count()\n",
    "y = titanic_df.groupby('Age')['Survived'].mean()\n",
    "#print len(x)\n",
    "#print x\n",
    "#print '-'*20\n",
    "#print len(y)\n",
    "#print y\n",
    "plt.scatter(x, y,color='g', alpha=0.5)\n",
    "plt.title(\"Age/Survive Scatter Plot\")\n",
    "plt.xlabel(\"Age\")\n",
    "plt.ylabel(\"Survival Rate\")\n",
    "plt.show()"
   ]
  },
  {
   "cell_type": "markdown",
   "metadata": {},
   "source": [
    "To better understand the Titanic passengers,I did analysis of survial rate and age group. I already seperate the age into 8 groups ranging 0 to 80 and bin size is 10. It shows that young passengers with age between 0 to 10 has the highest survial rate, following by age group 30~40 and age group 50~60. I also did a Seaborn distrubtion plot which combined the information of age distrubtion and survival information. As the distrubtion shows, majority of passengers are between 20-40 age groups. Same as the bar chart, young passengers in age group 0-10 has the higest survival rate(eyeball the survive bar and did not survive bar). "
   ]
  },
  {
   "cell_type": "code",
   "execution_count": 23,
   "metadata": {
    "collapsed": false
   },
   "outputs": [
    {
     "name": "stdout",
     "output_type": "stream",
     "text": [
      "  Age Group  Survival Rate\n",
      "0      0~10       0.593750\n",
      "1     10~20       0.382609\n",
      "2     20~30       0.365217\n",
      "3     30~40       0.445161\n",
      "4     40~50       0.383721\n",
      "5     50~60       0.404762\n",
      "6     60~70       0.235294\n",
      "7     70~80       0.200000\n"
     ]
    }
   ],
   "source": [
    "newDf=df_filtered.groupby('Age Group',as_index=False)['Survived'].mean()\n",
    "newDf=newDf.rename(columns={'Survived':'Survival Rate'})\n",
    "print newDf"
   ]
  },
  {
   "cell_type": "code",
   "execution_count": 24,
   "metadata": {
    "collapsed": false
   },
   "outputs": [
    {
     "data": {
      "image/png": "[encoded data removed]",
      "text/plain": [
       "<matplotlib.figure.Figure at 0xa703198>"
      ]
     },
     "metadata": {},
     "output_type": "display_data"
    }
   ],
   "source": [
    "newDf.plot(x=newDf['Age Group'],kind='bar')\n",
    "plt.show()"
   ]
  },
  {
   "cell_type": "code",
   "execution_count": 25,
   "metadata": {
    "collapsed": false
   },
   "outputs": [
    {
     "data": {
      "image/png": "[encoded data removed]",
      "text/plain": [
       "<matplotlib.figure.Figure at 0xc75dda0>"
      ]
     },
     "metadata": {},
     "output_type": "display_data"
    }
   ],
   "source": [
    "import numpy as np; \n",
    "import seaborn as sns;\n",
    "import matplotlib.pyplot as plt;\n",
    "sns.set(color_codes=True)\n",
    "x1=titanic_df[titanic_df['Survived'] == 0]['Age'].dropna()\n",
    "sns.distplot(x1,label='Did not survived')\n",
    "x2=titanic_df[titanic_df['Survived'] == 1]['Age'].dropna()\n",
    "ax=sns.distplot(x2,label='Survived')\n",
    "#plt.hist(x1,color='g', bins=30)\n",
    "#sns.barplot(x1)\n",
    "ax.set(xlabel='Age', ylabel='Frequency')\n",
    "plt.title('age distrubition among survival classes')\n",
    "plt.legend()\n",
    "plt.show()"
   ]
  },
  {
   "cell_type": "markdown",
   "metadata": {},
   "source": [
    "## Sex and Pclass - Combined Effect ##"
   ]
  },
  {
   "cell_type": "markdown",
   "metadata": {},
   "source": [
    "We know that passengers in 1st class have higher chance of survival than 3rd class and female have higher chance of survival than male. However, would a male passenger in the 1st class have a higher or lower chance of survival than a female passenger in the 3rd class? The bar chat below shows that 3rd class female have higher survival rate than 1st class male, but is that difference signaficant that we can apply to all population? I conducted the following experienment. \n",
    "\n",
    "H0: In population, male passengers in 1st class and female passengers in 3rd class have equal chance to survive ( H0: P1 = P2 ),\n",
    "Ha: Population survival rate of female passengers in 3rd class is higher male passengers in 1st class ( Ha: P1 > P2 ) \n",
    "I conducted chi-squared test. \n",
    "t=-2.164\n",
    "α=0.05\n",
    "p=0.0004\n",
    " \n",
    "We reject H0 because P<0.05. It means that female passengers in 3rd class have highr chance to survive than male passengers in 1st class. It reveals the fact that Sex has more effect on survival rate than Pclass.  "
   ]
  },
  {
   "cell_type": "code",
   "execution_count": 26,
   "metadata": {
    "collapsed": false
   },
   "outputs": [
    {
     "name": "stdout",
     "output_type": "stream",
     "text": [
      "[61, 55]\n",
      "[40, 47]\n"
     ]
    },
    {
     "data": {
      "text/plain": [
       "Power_divergenceResult(statistic=12.386702127659575, pvalue=0.00043240228302499658)"
      ]
     },
     "execution_count": 26,
     "metadata": {},
     "output_type": "execute_result"
    }
   ],
   "source": [
    "import scipy.stats\n",
    "#rate_f = float(len(df_filtered[df_filtered['Sex']=='female']))/len(titanic_df[titanic_df['Sex']=='female'])\n",
    "#rate_m = float(len(df_filtered[df_filtered['Sex']=='male']))/len(titanic_df[titanic_df['Sex']=='male'])\n",
    "f_ob=[len(df_filtered[(df_filtered['Pclass']==1) &(df_filtered['Sex']=='male')& (df_filtered['Survived']==0)]),len(df_filtered[(df_filtered['Pclass']==3) & (df_filtered['Sex']=='female') & (df_filtered['Survived']==0)])]\n",
    "f_exp=[len(df_filtered[(df_filtered['Pclass']==1)& (df_filtered['Sex']=='male')& (df_filtered['Survived']==1)]),len(df_filtered[(df_filtered['Pclass']==3) & (df_filtered['Sex']=='female') & (df_filtered['Survived']==1)])]\n",
    "print f_ob\n",
    "print f_exp\n",
    "scipy.stats.chisquare(f_ob, f_exp)"
   ]
  },
  {
   "cell_type": "code",
   "execution_count": 27,
   "metadata": {
    "collapsed": false
   },
   "outputs": [
    {
     "data": {
      "image/png": "[encoded data removed]",
      "text/plain": [
       "<matplotlib.figure.Figure at 0xc952080>"
      ]
     },
     "metadata": {},
     "output_type": "display_data"
    }
   ],
   "source": [
    "import numpy as np; \n",
    "import seaborn as sns;\n",
    "import matplotlib.pyplot as plt;\n",
    "sns.set(color_codes=True)\n",
    "ax = sns.barplot(x=\"Sex\", y=\"Survived\", hue=\"Pclass\", data=titanic_df)\n",
    "ax.set(xlabel='Sex',ylabel='Survival Rate')\n",
    "plt.title('Barplot of Survival Rate')\n",
    "plt.show()"
   ]
  },
  {
   "cell_type": "markdown",
   "metadata": {},
   "source": [
    "# Summary\n"
   ]
  },
  {
   "cell_type": "markdown",
   "metadata": {},
   "source": [
    " ## Limitations ##\n",
    "There are several limitations in our data analysis related to the dataset itself. \n",
    "*Missing Observation* The data only contains demographics and passenger information from 891 of the 2224 passengers in the ship.\n",
    "*Missing Values* we have 177 records missing age information in our dataset. It might limit our analysis if the data is not missing at random. However, in our analysis, we assume the data is missing at random. "
   ]
  },
  {
   "cell_type": "markdown",
   "metadata": {},
   "source": [
    "I post three questions in last section. To Answer my questions, I utilized Python code, statistical test and plots. Following is my summary.\n",
    "1. Do female passengers have better chance to survive than male passengers?\n",
    "Yes. I conducted chi-square test and the statistics shows that female passengers have better chance to survive than male\n",
    "2. Do Upper class passengers have better chance to survive than lower class passengers?\n",
    "Yes. I conducted chi-square test and the statistics shows that 1st class passengers have better chance to survive than 2nd, and 2nd class passengers have better chance to survive than 3rd.\n",
    "3. Is there a relation between Age and survival rate? \n",
    "No. The older the age doesn't guarantee higher survival rate or vise versa. However, Age group 0~10 has the highest survival rate of 61.3%."
   ]
  },
  {
   "cell_type": "markdown",
   "metadata": {},
   "source": [
    "Reference\n",
    "1. http://matplotlib.org/\n",
    "2. https://www.kaggle.com/c/titanic/data"
   ]
  }
 ],
 "metadata": {
  "anaconda-cloud": {},
  "kernelspec": {
   "display_name": "Python [default]",
   "language": "python",
   "name": "python2"
  },
  "language_info": {
   "codemirror_mode": {
    "name": "ipython",
    "version": 2
   },
   "file_extension": ".py",
   "mimetype": "text/x-python",
   "name": "python",
   "nbconvert_exporter": "python",
   "pygments_lexer": "ipython2",
   "version": "2.7.12"
  }
 },
 "nbformat": 4,
 "nbformat_minor": 2
}
